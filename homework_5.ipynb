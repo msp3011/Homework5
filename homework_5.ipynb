{
 "cells": [
  {
   "cell_type": "markdown",
   "id": "4df75239",
   "metadata": {},
   "source": [
    "# Introduction to Python for Data Science, Homework 5\n",
    "\n",
    "YOUR NAME HERE"
   ]
  },
  {
   "cell_type": "markdown",
   "id": "2fddb925",
   "metadata": {},
   "source": [
    "# Question 1\n",
    "\n",
    "In this question, you will collect the dataset(s) that you will use in your final project, read it into Python, and describe its contents.\n",
    "\n",
    "If the data collection requirements for your final project are extensive, you may use this space to report intermediate progress.\n",
    "\n",
    "In this and all subsequent questions, you are free to build on your responses to Homework 4."
   ]
  },
  {
   "cell_type": "markdown",
   "id": "f418912e",
   "metadata": {},
   "source": [
    "## 1.a\n",
    "\n",
    "Describe each dataset at a high level in 1–2 paragraphs. This description should contain:\n",
    "- The general phenomenon captured in the dataset\n",
    "- The unit of analysis (or what one row represents)\n",
    "- The data-analytic question of interest\n",
    "\n",
    "Conclude with a 1–2 sentence argument for why your stakeholders (e.g. your investors/team/manager) should invest resources (i.e. your time) pursuing this analysis"
   ]
  },
  {
   "cell_type": "markdown",
   "id": "eeab0e09",
   "metadata": {},
   "source": [
    "Your response here."
   ]
  },
  {
   "cell_type": "markdown",
   "id": "1114d494",
   "metadata": {},
   "source": [
    "## 1.b\n",
    "\n",
    "Load the data into Python. Your response may take many forms. For example, you may:\n",
    "- Download CSV/Excel/JSON files and read them in from your hard drive\n",
    "- Webscrape a target site or sites\n",
    "- Query an API and parse the results\n",
    "- Submit a SQL query via Google BigQuery or another SQL server\n",
    "\n",
    "You may do some light initial cleanup (e.g., casting strings to floats) at this stage. However, you should reserve more involved preprocessing for Question 2."
   ]
  },
  {
   "cell_type": "code",
   "execution_count": 1,
   "id": "891bd4ae",
   "metadata": {
    "run_control": {
     "marked": true
    }
   },
   "outputs": [],
   "source": [
    "# your code here"
   ]
  },
  {
   "cell_type": "markdown",
   "id": "2339db9b",
   "metadata": {},
   "source": [
    "## 1.c\n",
    "\n",
    "Create documentation for your dataset(s).\n",
    "\n",
    "For each dataset, divide the columns into two groups: those of interest and those not of interest. The columns of interest should contain all outcome variables, explanatory variables, and contextual variables of potential interest.\n",
    "\n",
    "For each column not of interest, provide a brief explanation (no more than one sentence) of what the column contains and why you are sure it is irrelevant for your purposes. If there are more than 10 columns not of interest, select any 10 to describe. Be conservative in discarding information; if you are not sure whether a column will be useful, do not rule it out at this stage.\n",
    "\n",
    "For each column of interest in the data, report its `dtype` and provide a brief explanation (no more than two sentences) of what the column contains and why it is potentially useful for your purposes."
   ]
  },
  {
   "cell_type": "markdown",
   "id": "0ab2aeaf",
   "metadata": {
    "run_control": {
     "marked": true
    }
   },
   "source": [
    "Your response here:\n",
    "\n",
    "- **Columns not of interest**\n",
    "    - `column1`: reason\n",
    "    - `column2`: reason\n",
    "- **Columns of interest**\n",
    "    - `column3` (type): description\n",
    "    - `column4` (type): description"
   ]
  },
  {
   "cell_type": "markdown",
   "id": "49ddb402",
   "metadata": {},
   "source": [
    "## 1.d\n",
    "\n",
    "For each column of interest, programmatically characterize the values that it can take on. For example, for discrete variables with a reasonably small number of possible values, this should involve `.value_counts()`. For floats, this should involve `.describe()`. For strings, this should involve `.describe()` on the number of characters, as well as a sample of perhaps 10 values. For each column, also report the proportion of missing or blank values.\n",
    "\n",
    "After programmatically exploring the data, write up a brief summary of your findings (no more than one paragraph) for each column of interest. Also describe how missingness will be handled, with appropriate justification (note that leaving values as `NaN` or `None` is also an acceptable option, but must also be justified)."
   ]
  },
  {
   "cell_type": "code",
   "execution_count": 2,
   "id": "320deceb",
   "metadata": {
    "run_control": {
     "marked": true
    }
   },
   "outputs": [],
   "source": [
    "# your code here"
   ]
  },
  {
   "cell_type": "markdown",
   "id": "7463bce1",
   "metadata": {},
   "source": [
    "Your response here:\n",
    "\n",
    "`column3`<br>\n",
    "description\n",
    "\n",
    "`column4`<br>\n",
    "description"
   ]
  },
  {
   "cell_type": "markdown",
   "id": "5eb94fa2",
   "metadata": {},
   "source": [
    "# Question 2\n",
    "\n",
    "In this question, you will transform the data as needed to prepare for your analysis. For example, you may:\n",
    "- Rename columns\n",
    "- Replace values\n",
    "- Handle missingness\n",
    "- Convert variables to (possibly ordered) categorical types\n",
    "- `.groupby()` and aggregate\n",
    "- `.melt()` or `.pivot()`\n",
    "- `.merge()`\n",
    "\n",
    "As always, you are free to use multiple code blocks to accomplish this task."
   ]
  },
  {
   "cell_type": "code",
   "execution_count": null,
   "id": "9a1d987a",
   "metadata": {},
   "outputs": [],
   "source": [
    "# your code here"
   ]
  },
  {
   "cell_type": "markdown",
   "id": "884ebbd9",
   "metadata": {},
   "source": [
    "# Question 3\n",
    "\n",
    "In this question, you will visualize the data."
   ]
  },
  {
   "cell_type": "markdown",
   "id": "3ce3d682",
   "metadata": {},
   "source": [
    "## 3.a\n",
    "\n",
    "Create appropriate univariate plots (e.g. histograms, density plots) for 2–3 outcome variables of potential interest and 3–5 explanatory variables of potential interest. In these exploratory plots, which are primarily for your own consumption, you do not need to spend time polishing the output.\n",
    "\n",
    "For each column, draw a quick conclusion about the data distribution (e.g., mode, central tendency, dispersion, skew, presence of outlying values). Report this conclusion as the plot title."
   ]
  },
  {
   "cell_type": "code",
   "execution_count": 3,
   "id": "8272a8b2",
   "metadata": {},
   "outputs": [],
   "source": [
    "# your code here"
   ]
  },
  {
   "cell_type": "markdown",
   "id": "8b2a5966",
   "metadata": {},
   "source": [
    "## 3.b\n",
    "\n",
    "Create appropriate bivariate plots (e.g. scatterplots, colored barplots, faceted plots) for the 2–3 outcome variables of potential interest, crossed by 3–5 explanatory variables of potential interest (for a total of 6–15 plots). Again, these exploratory plots are primarily for your own consumption; you do not need to spend time polishing the output.\n",
    "\n",
    "For each plot, draw an initial conclusion about the apparent relationship between the variables depicted. Report your initial conclusion as the plot title. It is common at this exploratory stage to see relationships that are ambiguous/complex/difficult to interpret, because by definition, a bivariate plot representing outcome $Y$ and explanatory variable $X_1$ does not capture important contextual information contained in $X_2$, $X_3$, and so on. In this case, a reasonable conclusion is that more thorough examination will be needed in your final project.\n",
    "\n",
    "You are free to automate the creation of some or all of these plots. If you do so, you will likely need to store your conclusions in a separate object, then find a way to programmatically pull in the corresponding conclusion as the title of each plot."
   ]
  },
  {
   "cell_type": "code",
   "execution_count": 3,
   "id": "052b86d6",
   "metadata": {},
   "outputs": [],
   "source": [
    "# your code here"
   ]
  },
  {
   "cell_type": "markdown",
   "id": "393bc613",
   "metadata": {},
   "source": [
    "## 3.c\n",
    "\n",
    "Create three polished plots (informative axis/facet titles, well-formatted axis breaks and labels, appropriate color schemes, etc.). These do not necessarily need to be used as part of your final project, since you are free to keep exploring the data and refining the visualization/analysis, but they should be sufficiently clean that they would not look out of place there. For each one, write no more than one paragraph describing the key points that a reader should take away from the plot. Summarize these points in a brief plot title."
   ]
  },
  {
   "cell_type": "code",
   "execution_count": 3,
   "id": "da02f800",
   "metadata": {},
   "outputs": [],
   "source": [
    "# your plot 1 code here"
   ]
  },
  {
   "cell_type": "raw",
   "id": "c9741fc6",
   "metadata": {},
   "source": [
    "Your plot 1 description here."
   ]
  },
  {
   "cell_type": "code",
   "execution_count": 3,
   "id": "41aa9c2f",
   "metadata": {},
   "outputs": [],
   "source": [
    "# your plot 2 code here"
   ]
  },
  {
   "cell_type": "raw",
   "id": "f0903b53",
   "metadata": {},
   "source": [
    "Your plot 2 description here."
   ]
  },
  {
   "cell_type": "code",
   "execution_count": 3,
   "id": "bfff2695",
   "metadata": {},
   "outputs": [],
   "source": [
    "# your plot 3 code here"
   ]
  },
  {
   "cell_type": "raw",
   "id": "22177b00",
   "metadata": {},
   "source": [
    "Your plot 3 description here."
   ]
  }
 ],
 "metadata": {
  "kernelspec": {
   "display_name": "Python 3 (ipykernel)",
   "language": "python",
   "name": "python3"
  },
  "language_info": {
   "codemirror_mode": {
    "name": "ipython",
    "version": 3
   },
   "file_extension": ".py",
   "mimetype": "text/x-python",
   "name": "python",
   "nbconvert_exporter": "python",
   "pygments_lexer": "ipython3",
   "version": "3.9.12"
  }
 },
 "nbformat": 4,
 "nbformat_minor": 5
}
